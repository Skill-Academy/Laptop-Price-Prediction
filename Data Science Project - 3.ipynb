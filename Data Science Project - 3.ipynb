{
 "cells": [
  {
   "cell_type": "markdown",
   "id": "6a6ff1da",
   "metadata": {},
   "source": [
    "#### Import the libraries"
   ]
  },
  {
   "cell_type": "code",
   "execution_count": 1,
   "id": "77672b52",
   "metadata": {},
   "outputs": [],
   "source": [
    "import pandas as pd   # data preprocessing\n",
    "# pandas is aliased as pd\n",
    "import numpy as np    # mathematical calculations\n",
    "# numpy is aliased as np\n",
    "import matplotlib.pyplot as plt  # visualization\n",
    "# pyplot is aliased as plt\n",
    "import seaborn as sns       # visualization\n",
    "# seaborn is aliased as sns"
   ]
  },
  {
   "cell_type": "markdown",
   "id": "9f5f59aa",
   "metadata": {},
   "source": [
    "#### Read the dataset"
   ]
  },
  {
   "cell_type": "code",
   "execution_count": 47,
   "id": "040855d3",
   "metadata": {},
   "outputs": [
    {
     "name": "stdout",
     "output_type": "stream",
     "text": [
      "<class 'pandas.core.frame.DataFrame'>\n"
     ]
    },
    {
     "data": {
      "text/html": [
       "<div>\n",
       "<style scoped>\n",
       "    .dataframe tbody tr th:only-of-type {\n",
       "        vertical-align: middle;\n",
       "    }\n",
       "\n",
       "    .dataframe tbody tr th {\n",
       "        vertical-align: top;\n",
       "    }\n",
       "\n",
       "    .dataframe thead th {\n",
       "        text-align: right;\n",
       "    }\n",
       "</style>\n",
       "<table border=\"1\" class=\"dataframe\">\n",
       "  <thead>\n",
       "    <tr style=\"text-align: right;\">\n",
       "      <th></th>\n",
       "      <th>Unnamed: 0</th>\n",
       "      <th>Company</th>\n",
       "      <th>TypeName</th>\n",
       "      <th>Ram</th>\n",
       "      <th>Weight</th>\n",
       "      <th>Price</th>\n",
       "      <th>Touchscreen</th>\n",
       "      <th>Ips</th>\n",
       "      <th>Cpu brand</th>\n",
       "      <th>HDD</th>\n",
       "      <th>SSD</th>\n",
       "      <th>Gpu brand</th>\n",
       "      <th>os</th>\n",
       "    </tr>\n",
       "  </thead>\n",
       "  <tbody>\n",
       "    <tr>\n",
       "      <th>0</th>\n",
       "      <td>0</td>\n",
       "      <td>Apple</td>\n",
       "      <td>Ultrabook</td>\n",
       "      <td>8</td>\n",
       "      <td>1.37</td>\n",
       "      <td>71378.6832</td>\n",
       "      <td>0</td>\n",
       "      <td>1</td>\n",
       "      <td>Intel Core i5</td>\n",
       "      <td>0</td>\n",
       "      <td>128</td>\n",
       "      <td>Intel</td>\n",
       "      <td>Mac</td>\n",
       "    </tr>\n",
       "    <tr>\n",
       "      <th>1</th>\n",
       "      <td>1</td>\n",
       "      <td>Apple</td>\n",
       "      <td>Ultrabook</td>\n",
       "      <td>8</td>\n",
       "      <td>1.34</td>\n",
       "      <td>47895.5232</td>\n",
       "      <td>0</td>\n",
       "      <td>0</td>\n",
       "      <td>Intel Core i5</td>\n",
       "      <td>0</td>\n",
       "      <td>0</td>\n",
       "      <td>Intel</td>\n",
       "      <td>Mac</td>\n",
       "    </tr>\n",
       "    <tr>\n",
       "      <th>2</th>\n",
       "      <td>2</td>\n",
       "      <td>HP</td>\n",
       "      <td>Notebook</td>\n",
       "      <td>8</td>\n",
       "      <td>1.86</td>\n",
       "      <td>30636.0000</td>\n",
       "      <td>0</td>\n",
       "      <td>0</td>\n",
       "      <td>Intel Core i5</td>\n",
       "      <td>0</td>\n",
       "      <td>256</td>\n",
       "      <td>Intel</td>\n",
       "      <td>Others/No OS/Linux</td>\n",
       "    </tr>\n",
       "    <tr>\n",
       "      <th>3</th>\n",
       "      <td>3</td>\n",
       "      <td>Apple</td>\n",
       "      <td>Ultrabook</td>\n",
       "      <td>16</td>\n",
       "      <td>1.83</td>\n",
       "      <td>135195.3360</td>\n",
       "      <td>0</td>\n",
       "      <td>1</td>\n",
       "      <td>Intel Core i7</td>\n",
       "      <td>0</td>\n",
       "      <td>512</td>\n",
       "      <td>AMD</td>\n",
       "      <td>Mac</td>\n",
       "    </tr>\n",
       "    <tr>\n",
       "      <th>4</th>\n",
       "      <td>4</td>\n",
       "      <td>Apple</td>\n",
       "      <td>Ultrabook</td>\n",
       "      <td>8</td>\n",
       "      <td>1.37</td>\n",
       "      <td>96095.8080</td>\n",
       "      <td>0</td>\n",
       "      <td>1</td>\n",
       "      <td>Intel Core i5</td>\n",
       "      <td>0</td>\n",
       "      <td>256</td>\n",
       "      <td>Intel</td>\n",
       "      <td>Mac</td>\n",
       "    </tr>\n",
       "  </tbody>\n",
       "</table>\n",
       "</div>"
      ],
      "text/plain": [
       "   Unnamed: 0 Company   TypeName  Ram  Weight        Price  Touchscreen  Ips  \\\n",
       "0           0   Apple  Ultrabook    8    1.37   71378.6832            0    1   \n",
       "1           1   Apple  Ultrabook    8    1.34   47895.5232            0    0   \n",
       "2           2      HP   Notebook    8    1.86   30636.0000            0    0   \n",
       "3           3   Apple  Ultrabook   16    1.83  135195.3360            0    1   \n",
       "4           4   Apple  Ultrabook    8    1.37   96095.8080            0    1   \n",
       "\n",
       "       Cpu brand  HDD  SSD Gpu brand                  os  \n",
       "0  Intel Core i5    0  128     Intel                 Mac  \n",
       "1  Intel Core i5    0    0     Intel                 Mac  \n",
       "2  Intel Core i5    0  256     Intel  Others/No OS/Linux  \n",
       "3  Intel Core i7    0  512       AMD                 Mac  \n",
       "4  Intel Core i5    0  256     Intel                 Mac  "
      ]
     },
     "execution_count": 47,
     "metadata": {},
     "output_type": "execute_result"
    }
   ],
   "source": [
    "df = pd.read_csv('laptop_price_data.csv')\n",
    "print(type(df))\n",
    "df.head()"
   ]
  },
  {
   "cell_type": "markdown",
   "id": "328a1758",
   "metadata": {},
   "source": [
    "#### Shape"
   ]
  },
  {
   "cell_type": "code",
   "execution_count": 48,
   "id": "60a46597",
   "metadata": {},
   "outputs": [
    {
     "data": {
      "text/plain": [
       "(1302, 13)"
      ]
     },
     "execution_count": 48,
     "metadata": {},
     "output_type": "execute_result"
    }
   ],
   "source": [
    "df.shape\n",
    "# rows=1302,cols=13"
   ]
  },
  {
   "cell_type": "code",
   "execution_count": 49,
   "id": "959ec2ac",
   "metadata": {},
   "outputs": [
    {
     "data": {
      "text/plain": [
       "Index(['Company', 'TypeName', 'Ram', 'Weight', 'Price', 'Touchscreen', 'Ips',\n",
       "       'Cpu brand', 'HDD', 'SSD', 'Gpu brand', 'os'],\n",
       "      dtype='object')"
      ]
     },
     "execution_count": 49,
     "metadata": {},
     "output_type": "execute_result"
    }
   ],
   "source": [
    "df.drop('Unnamed: 0',axis=1,inplace=True)\n",
    "df.columns"
   ]
  },
  {
   "cell_type": "code",
   "execution_count": 50,
   "id": "28b18eee",
   "metadata": {},
   "outputs": [],
   "source": [
    "df1 = df.copy()"
   ]
  },
  {
   "cell_type": "markdown",
   "id": "20055843",
   "metadata": {},
   "source": [
    "## Data Preprocessing"
   ]
  },
  {
   "cell_type": "markdown",
   "id": "9b4a76fd",
   "metadata": {},
   "source": [
    "#### 1) Handling Null Values"
   ]
  },
  {
   "cell_type": "code",
   "execution_count": 51,
   "id": "bb47bfc8",
   "metadata": {},
   "outputs": [
    {
     "data": {
      "text/plain": [
       "Company        0\n",
       "TypeName       0\n",
       "Ram            0\n",
       "Weight         0\n",
       "Price          0\n",
       "Touchscreen    0\n",
       "Ips            0\n",
       "Cpu brand      0\n",
       "HDD            0\n",
       "SSD            0\n",
       "Gpu brand      0\n",
       "os             0\n",
       "dtype: int64"
      ]
     },
     "execution_count": 51,
     "metadata": {},
     "output_type": "execute_result"
    }
   ],
   "source": [
    "df.isnull().sum()\n",
    "# Returns the sum of null values for each column"
   ]
  },
  {
   "cell_type": "markdown",
   "id": "2d977bed",
   "metadata": {},
   "source": [
    "#### 2) Handling the duplicate rows"
   ]
  },
  {
   "cell_type": "code",
   "execution_count": 52,
   "id": "32b20202",
   "metadata": {},
   "outputs": [
    {
     "data": {
      "text/plain": [
       "30"
      ]
     },
     "execution_count": 52,
     "metadata": {},
     "output_type": "execute_result"
    }
   ],
   "source": [
    "df.duplicated().sum()\n",
    "# Returns the number of duplicates"
   ]
  },
  {
   "cell_type": "code",
   "execution_count": 53,
   "id": "b4d7fa70",
   "metadata": {},
   "outputs": [
    {
     "data": {
      "text/plain": [
       "0"
      ]
     },
     "execution_count": 53,
     "metadata": {},
     "output_type": "execute_result"
    }
   ],
   "source": [
    "df.drop_duplicates(inplace=True)\n",
    "df.duplicated().sum()"
   ]
  },
  {
   "cell_type": "markdown",
   "id": "5e19fdff",
   "metadata": {},
   "source": [
    "#### 3) Checking the datatypes"
   ]
  },
  {
   "cell_type": "code",
   "execution_count": 54,
   "id": "2aca7ffe",
   "metadata": {},
   "outputs": [
    {
     "data": {
      "text/plain": [
       "Company         object\n",
       "TypeName        object\n",
       "Ram              int64\n",
       "Weight         float64\n",
       "Price          float64\n",
       "Touchscreen      int64\n",
       "Ips              int64\n",
       "Cpu brand       object\n",
       "HDD              int64\n",
       "SSD              int64\n",
       "Gpu brand       object\n",
       "os              object\n",
       "dtype: object"
      ]
     },
     "execution_count": 54,
     "metadata": {},
     "output_type": "execute_result"
    }
   ],
   "source": [
    "df.dtypes"
   ]
  },
  {
   "cell_type": "markdown",
   "id": "91b03633",
   "metadata": {},
   "source": [
    "#### 4) Handling Outliers"
   ]
  },
  {
   "cell_type": "code",
   "execution_count": 55,
   "id": "9a97f203",
   "metadata": {},
   "outputs": [
    {
     "data": {
      "text/html": [
       "<div>\n",
       "<style scoped>\n",
       "    .dataframe tbody tr th:only-of-type {\n",
       "        vertical-align: middle;\n",
       "    }\n",
       "\n",
       "    .dataframe tbody tr th {\n",
       "        vertical-align: top;\n",
       "    }\n",
       "\n",
       "    .dataframe thead th {\n",
       "        text-align: right;\n",
       "    }\n",
       "</style>\n",
       "<table border=\"1\" class=\"dataframe\">\n",
       "  <thead>\n",
       "    <tr style=\"text-align: right;\">\n",
       "      <th></th>\n",
       "      <th>count</th>\n",
       "      <th>mean</th>\n",
       "      <th>std</th>\n",
       "      <th>min</th>\n",
       "      <th>1%</th>\n",
       "      <th>2%</th>\n",
       "      <th>3%</th>\n",
       "      <th>5%</th>\n",
       "      <th>50%</th>\n",
       "      <th>90%</th>\n",
       "      <th>95%</th>\n",
       "      <th>96%</th>\n",
       "      <th>97%</th>\n",
       "      <th>98%</th>\n",
       "      <th>99%</th>\n",
       "      <th>max</th>\n",
       "    </tr>\n",
       "  </thead>\n",
       "  <tbody>\n",
       "    <tr>\n",
       "      <th>Ram</th>\n",
       "      <td>1272.0</td>\n",
       "      <td>8.451258</td>\n",
       "      <td>5.099249</td>\n",
       "      <td>2.00</td>\n",
       "      <td>2.000000</td>\n",
       "      <td>4.00</td>\n",
       "      <td>4.00000</td>\n",
       "      <td>4.00000</td>\n",
       "      <td>8.00</td>\n",
       "      <td>16.0000</td>\n",
       "      <td>16.00</td>\n",
       "      <td>16.000</td>\n",
       "      <td>16.0000</td>\n",
       "      <td>16.000000</td>\n",
       "      <td>32.000</td>\n",
       "      <td>64.00</td>\n",
       "    </tr>\n",
       "    <tr>\n",
       "      <th>Weight</th>\n",
       "      <td>1272.0</td>\n",
       "      <td>2.041761</td>\n",
       "      <td>0.669088</td>\n",
       "      <td>0.69</td>\n",
       "      <td>0.955500</td>\n",
       "      <td>1.08</td>\n",
       "      <td>1.10000</td>\n",
       "      <td>1.17000</td>\n",
       "      <td>2.04</td>\n",
       "      <td>2.8000</td>\n",
       "      <td>3.20</td>\n",
       "      <td>3.358</td>\n",
       "      <td>3.7800</td>\n",
       "      <td>4.300000</td>\n",
       "      <td>4.420</td>\n",
       "      <td>4.70</td>\n",
       "    </tr>\n",
       "    <tr>\n",
       "      <th>Price</th>\n",
       "      <td>1272.0</td>\n",
       "      <td>60520.657755</td>\n",
       "      <td>37355.685811</td>\n",
       "      <td>9270.72</td>\n",
       "      <td>12960.514512</td>\n",
       "      <td>14119.20</td>\n",
       "      <td>15251.24016</td>\n",
       "      <td>17214.52824</td>\n",
       "      <td>52693.92</td>\n",
       "      <td>109170.1872</td>\n",
       "      <td>130482.72</td>\n",
       "      <td>136599.264</td>\n",
       "      <td>145283.3712</td>\n",
       "      <td>153350.208288</td>\n",
       "      <td>167855.976</td>\n",
       "      <td>324954.72</td>\n",
       "    </tr>\n",
       "    <tr>\n",
       "      <th>Touchscreen</th>\n",
       "      <td>1272.0</td>\n",
       "      <td>0.147013</td>\n",
       "      <td>0.354258</td>\n",
       "      <td>0.00</td>\n",
       "      <td>0.000000</td>\n",
       "      <td>0.00</td>\n",
       "      <td>0.00000</td>\n",
       "      <td>0.00000</td>\n",
       "      <td>0.00</td>\n",
       "      <td>1.0000</td>\n",
       "      <td>1.00</td>\n",
       "      <td>1.000</td>\n",
       "      <td>1.0000</td>\n",
       "      <td>1.000000</td>\n",
       "      <td>1.000</td>\n",
       "      <td>1.00</td>\n",
       "    </tr>\n",
       "    <tr>\n",
       "      <th>Ips</th>\n",
       "      <td>1272.0</td>\n",
       "      <td>0.279874</td>\n",
       "      <td>0.449114</td>\n",
       "      <td>0.00</td>\n",
       "      <td>0.000000</td>\n",
       "      <td>0.00</td>\n",
       "      <td>0.00000</td>\n",
       "      <td>0.00000</td>\n",
       "      <td>0.00</td>\n",
       "      <td>1.0000</td>\n",
       "      <td>1.00</td>\n",
       "      <td>1.000</td>\n",
       "      <td>1.0000</td>\n",
       "      <td>1.000000</td>\n",
       "      <td>1.000</td>\n",
       "      <td>1.00</td>\n",
       "    </tr>\n",
       "    <tr>\n",
       "      <th>HDD</th>\n",
       "      <td>1272.0</td>\n",
       "      <td>414.040881</td>\n",
       "      <td>518.128204</td>\n",
       "      <td>0.00</td>\n",
       "      <td>0.000000</td>\n",
       "      <td>0.00</td>\n",
       "      <td>0.00000</td>\n",
       "      <td>0.00000</td>\n",
       "      <td>0.00</td>\n",
       "      <td>1000.0000</td>\n",
       "      <td>1000.00</td>\n",
       "      <td>1000.000</td>\n",
       "      <td>1000.0000</td>\n",
       "      <td>2000.000000</td>\n",
       "      <td>2000.000</td>\n",
       "      <td>2000.00</td>\n",
       "    </tr>\n",
       "    <tr>\n",
       "      <th>SSD</th>\n",
       "      <td>1272.0</td>\n",
       "      <td>186.298742</td>\n",
       "      <td>186.597777</td>\n",
       "      <td>0.00</td>\n",
       "      <td>0.000000</td>\n",
       "      <td>0.00</td>\n",
       "      <td>0.00000</td>\n",
       "      <td>0.00000</td>\n",
       "      <td>256.00</td>\n",
       "      <td>512.0000</td>\n",
       "      <td>512.00</td>\n",
       "      <td>512.000</td>\n",
       "      <td>512.0000</td>\n",
       "      <td>512.000000</td>\n",
       "      <td>1000.000</td>\n",
       "      <td>1024.00</td>\n",
       "    </tr>\n",
       "  </tbody>\n",
       "</table>\n",
       "</div>"
      ],
      "text/plain": [
       "              count          mean           std      min            1%  \\\n",
       "Ram          1272.0      8.451258      5.099249     2.00      2.000000   \n",
       "Weight       1272.0      2.041761      0.669088     0.69      0.955500   \n",
       "Price        1272.0  60520.657755  37355.685811  9270.72  12960.514512   \n",
       "Touchscreen  1272.0      0.147013      0.354258     0.00      0.000000   \n",
       "Ips          1272.0      0.279874      0.449114     0.00      0.000000   \n",
       "HDD          1272.0    414.040881    518.128204     0.00      0.000000   \n",
       "SSD          1272.0    186.298742    186.597777     0.00      0.000000   \n",
       "\n",
       "                   2%           3%           5%       50%          90%  \\\n",
       "Ram              4.00      4.00000      4.00000      8.00      16.0000   \n",
       "Weight           1.08      1.10000      1.17000      2.04       2.8000   \n",
       "Price        14119.20  15251.24016  17214.52824  52693.92  109170.1872   \n",
       "Touchscreen      0.00      0.00000      0.00000      0.00       1.0000   \n",
       "Ips              0.00      0.00000      0.00000      0.00       1.0000   \n",
       "HDD              0.00      0.00000      0.00000      0.00    1000.0000   \n",
       "SSD              0.00      0.00000      0.00000    256.00     512.0000   \n",
       "\n",
       "                   95%         96%          97%            98%         99%  \\\n",
       "Ram              16.00      16.000      16.0000      16.000000      32.000   \n",
       "Weight            3.20       3.358       3.7800       4.300000       4.420   \n",
       "Price        130482.72  136599.264  145283.3712  153350.208288  167855.976   \n",
       "Touchscreen       1.00       1.000       1.0000       1.000000       1.000   \n",
       "Ips               1.00       1.000       1.0000       1.000000       1.000   \n",
       "HDD            1000.00    1000.000    1000.0000    2000.000000    2000.000   \n",
       "SSD             512.00     512.000     512.0000     512.000000    1000.000   \n",
       "\n",
       "                   max  \n",
       "Ram              64.00  \n",
       "Weight            4.70  \n",
       "Price        324954.72  \n",
       "Touchscreen       1.00  \n",
       "Ips               1.00  \n",
       "HDD            2000.00  \n",
       "SSD            1024.00  "
      ]
     },
     "execution_count": 55,
     "metadata": {},
     "output_type": "execute_result"
    }
   ],
   "source": [
    "df.describe(percentiles=[0.01,0.02,0.03,0.05,0.9,0.95,0.96,0.97,0.98,0.99]).T"
   ]
  },
  {
   "cell_type": "markdown",
   "id": "ee2ac86a",
   "metadata": {},
   "source": [
    "#### Boxplots for Outliers"
   ]
  },
  {
   "cell_type": "code",
   "execution_count": 56,
   "id": "04993db9",
   "metadata": {},
   "outputs": [
    {
     "name": "stdout",
     "output_type": "stream",
     "text": [
      "(1272, 12)\n"
     ]
    },
    {
     "data": {
      "text/plain": [
       "Index(['Company', 'TypeName', 'Ram', 'Weight', 'Price', 'Touchscreen', 'Ips',\n",
       "       'Cpu brand', 'HDD', 'SSD', 'Gpu brand', 'os'],\n",
       "      dtype='object')"
      ]
     },
     "execution_count": 56,
     "metadata": {},
     "output_type": "execute_result"
    }
   ],
   "source": [
    "print(df.shape)\n",
    "df.columns"
   ]
  },
  {
   "cell_type": "code",
   "execution_count": 59,
   "id": "92112b80",
   "metadata": {},
   "outputs": [
    {
     "data": {
      "image/png": "[encoded data removed]",
      "text/plain": [
       "<Figure size 432x288 with 1 Axes>"
      ]
     },
     "metadata": {
      "needs_background": "light"
     },
     "output_type": "display_data"
    }
   ],
   "source": [
    "sns.boxplot(x=df['Ram'])\n",
    "plt.show()"
   ]
  },
  {
   "cell_type": "code",
   "execution_count": 60,
   "id": "5a10507a",
   "metadata": {},
   "outputs": [
    {
     "name": "stdout",
     "output_type": "stream",
     "text": [
      "(1251, 12)\n",
      "0.1721698113207547\n"
     ]
    }
   ],
   "source": [
    "print(df[df['Ram']<20].shape)\n",
    "print(df[df['Ram']>12].shape[0]/df.shape[0])"
   ]
  },
  {
   "cell_type": "code",
   "execution_count": 61,
   "id": "4b9bbd8a",
   "metadata": {},
   "outputs": [
    {
     "data": {
      "image/png": "[encoded data removed]",
      "text/plain": [
       "<Figure size 432x288 with 1 Axes>"
      ]
     },
     "metadata": {
      "needs_background": "light"
     },
     "output_type": "display_data"
    }
   ],
   "source": [
    "sns.boxplot(x=df['Weight'])\n",
    "plt.show()"
   ]
  },
  {
   "cell_type": "code",
   "execution_count": 62,
   "id": "8a972150",
   "metadata": {},
   "outputs": [
    {
     "data": {
      "text/plain": [
       "(46, 12)"
      ]
     },
     "execution_count": 62,
     "metadata": {},
     "output_type": "execute_result"
    }
   ],
   "source": [
    "df[df['Weight']>3.5].shape"
   ]
  },
  {
   "cell_type": "markdown",
   "id": "a1bd5f25",
   "metadata": {},
   "source": [
    "#### Outlier Clipping"
   ]
  },
  {
   "cell_type": "code",
   "execution_count": 63,
   "id": "7e86e0cb",
   "metadata": {},
   "outputs": [],
   "source": [
    "df['Weight'] = np.where(df['Weight']>3.5,3.5,df['Weight'])"
   ]
  },
  {
   "cell_type": "code",
   "execution_count": 64,
   "id": "ab27d08c",
   "metadata": {},
   "outputs": [
    {
     "data": {
      "image/png": "[encoded data removed]",
      "text/plain": [
       "<Figure size 432x288 with 1 Axes>"
      ]
     },
     "metadata": {
      "needs_background": "light"
     },
     "output_type": "display_data"
    }
   ],
   "source": [
    "sns.boxplot(x=df['Price'])\n",
    "plt.show()"
   ]
  },
  {
   "cell_type": "code",
   "execution_count": 65,
   "id": "d2697692",
   "metadata": {},
   "outputs": [
    {
     "data": {
      "text/plain": [
       "(7, 12)"
      ]
     },
     "execution_count": 65,
     "metadata": {},
     "output_type": "execute_result"
    }
   ],
   "source": [
    "df[df['Price']>200000].shape"
   ]
  },
  {
   "cell_type": "code",
   "execution_count": 66,
   "id": "f2dd7f52",
   "metadata": {},
   "outputs": [
    {
     "data": {
      "text/html": [
       "<div>\n",
       "<style scoped>\n",
       "    .dataframe tbody tr th:only-of-type {\n",
       "        vertical-align: middle;\n",
       "    }\n",
       "\n",
       "    .dataframe tbody tr th {\n",
       "        vertical-align: top;\n",
       "    }\n",
       "\n",
       "    .dataframe thead th {\n",
       "        text-align: right;\n",
       "    }\n",
       "</style>\n",
       "<table border=\"1\" class=\"dataframe\">\n",
       "  <thead>\n",
       "    <tr style=\"text-align: right;\">\n",
       "      <th></th>\n",
       "      <th>Company</th>\n",
       "      <th>TypeName</th>\n",
       "      <th>Ram</th>\n",
       "      <th>Weight</th>\n",
       "      <th>Price</th>\n",
       "      <th>Touchscreen</th>\n",
       "      <th>Ips</th>\n",
       "      <th>Cpu brand</th>\n",
       "      <th>HDD</th>\n",
       "      <th>SSD</th>\n",
       "      <th>Gpu brand</th>\n",
       "      <th>os</th>\n",
       "    </tr>\n",
       "  </thead>\n",
       "  <tbody>\n",
       "    <tr>\n",
       "      <th>17</th>\n",
       "      <td>Apple</td>\n",
       "      <td>Ultrabook</td>\n",
       "      <td>16</td>\n",
       "      <td>1.83</td>\n",
       "      <td>152274.24</td>\n",
       "      <td>0</td>\n",
       "      <td>1</td>\n",
       "      <td>Intel Core i7</td>\n",
       "      <td>0</td>\n",
       "      <td>512</td>\n",
       "      <td>AMD</td>\n",
       "      <td>Mac</td>\n",
       "    </tr>\n",
       "    <tr>\n",
       "      <th>190</th>\n",
       "      <td>Lenovo</td>\n",
       "      <td>2 in 1 Convertible</td>\n",
       "      <td>16</td>\n",
       "      <td>1.42</td>\n",
       "      <td>150462.72</td>\n",
       "      <td>1</td>\n",
       "      <td>0</td>\n",
       "      <td>Intel Core i7</td>\n",
       "      <td>0</td>\n",
       "      <td>1000</td>\n",
       "      <td>Intel</td>\n",
       "      <td>Windows</td>\n",
       "    </tr>\n",
       "    <tr>\n",
       "      <th>196</th>\n",
       "      <td>Razer</td>\n",
       "      <td>Gaming</td>\n",
       "      <td>32</td>\n",
       "      <td>3.49</td>\n",
       "      <td>324954.72</td>\n",
       "      <td>1</td>\n",
       "      <td>0</td>\n",
       "      <td>Intel Core i7</td>\n",
       "      <td>0</td>\n",
       "      <td>1000</td>\n",
       "      <td>Nvidia</td>\n",
       "      <td>Windows</td>\n",
       "    </tr>\n",
       "    <tr>\n",
       "      <th>204</th>\n",
       "      <td>Dell</td>\n",
       "      <td>Workstation</td>\n",
       "      <td>16</td>\n",
       "      <td>2.80</td>\n",
       "      <td>162770.40</td>\n",
       "      <td>0</td>\n",
       "      <td>0</td>\n",
       "      <td>Other Intel Processor</td>\n",
       "      <td>1000</td>\n",
       "      <td>256</td>\n",
       "      <td>Nvidia</td>\n",
       "      <td>Windows</td>\n",
       "    </tr>\n",
       "    <tr>\n",
       "      <th>238</th>\n",
       "      <td>Asus</td>\n",
       "      <td>Gaming</td>\n",
       "      <td>32</td>\n",
       "      <td>3.50</td>\n",
       "      <td>207259.20</td>\n",
       "      <td>0</td>\n",
       "      <td>0</td>\n",
       "      <td>Intel Core i7</td>\n",
       "      <td>1000</td>\n",
       "      <td>512</td>\n",
       "      <td>Nvidia</td>\n",
       "      <td>Windows</td>\n",
       "    </tr>\n",
       "  </tbody>\n",
       "</table>\n",
       "</div>"
      ],
      "text/plain": [
       "    Company            TypeName  Ram  Weight      Price  Touchscreen  Ips  \\\n",
       "17    Apple           Ultrabook   16    1.83  152274.24            0    1   \n",
       "190  Lenovo  2 in 1 Convertible   16    1.42  150462.72            1    0   \n",
       "196   Razer              Gaming   32    3.49  324954.72            1    0   \n",
       "204    Dell         Workstation   16    2.80  162770.40            0    0   \n",
       "238    Asus              Gaming   32    3.50  207259.20            0    0   \n",
       "\n",
       "                 Cpu brand   HDD   SSD Gpu brand       os  \n",
       "17           Intel Core i7     0   512       AMD      Mac  \n",
       "190          Intel Core i7     0  1000     Intel  Windows  \n",
       "196          Intel Core i7     0  1000    Nvidia  Windows  \n",
       "204  Other Intel Processor  1000   256    Nvidia  Windows  \n",
       "238          Intel Core i7  1000   512    Nvidia  Windows  "
      ]
     },
     "execution_count": 66,
     "metadata": {},
     "output_type": "execute_result"
    }
   ],
   "source": [
    "df[df['Price']>150000].head()"
   ]
  },
  {
   "cell_type": "code",
   "execution_count": 67,
   "id": "c05b291c",
   "metadata": {},
   "outputs": [],
   "source": [
    "# df['Price'] = np.where(df['Price']>167855.976,167855.976,df['Price'])"
   ]
  },
  {
   "cell_type": "markdown",
   "id": "94e781fd",
   "metadata": {},
   "source": [
    "### EDA"
   ]
  },
  {
   "cell_type": "markdown",
   "id": "69833290",
   "metadata": {},
   "source": [
    "#### Top 8 Different Laptop Companies with highest count"
   ]
  },
  {
   "cell_type": "code",
   "execution_count": 68,
   "id": "d9616cbc",
   "metadata": {},
   "outputs": [
    {
     "data": {
      "image/png": "[encoded data removed]",
      "text/plain": [
       "<Figure size 504x720 with 1 Axes>"
      ]
     },
     "metadata": {
      "needs_background": "light"
     },
     "output_type": "display_data"
    }
   ],
   "source": [
    "plt.figure(figsize=(7,10))\n",
    "sns.countplot(y=df['Company'],\n",
    "              order=df['Company'].value_counts().sort_values(ascending=False)[:8].index)\n",
    "plt.title('Top 8 Count of different laptop companies')\n",
    "plt.show()"
   ]
  },
  {
   "cell_type": "code",
   "execution_count": 45,
   "id": "13a3d1e3",
   "metadata": {},
   "outputs": [
    {
     "data": {
      "text/plain": [
       "Index(['Company', 'TypeName', 'Ram', 'Weight', 'Price', 'Touchscreen', 'Ips',\n",
       "       'Cpu brand', 'HDD', 'SSD', 'Gpu brand', 'os'],\n",
       "      dtype='object')"
      ]
     },
     "execution_count": 45,
     "metadata": {},
     "output_type": "execute_result"
    }
   ],
   "source": [
    "df.columns"
   ]
  },
  {
   "cell_type": "markdown",
   "id": "9d85f532",
   "metadata": {},
   "source": [
    "#### Count of TypeName"
   ]
  },
  {
   "cell_type": "code",
   "execution_count": 69,
   "id": "9e42424e",
   "metadata": {},
   "outputs": [
    {
     "data": {
      "image/png": "[encoded data removed]",
      "text/plain": [
       "<Figure size 432x288 with 1 Axes>"
      ]
     },
     "metadata": {
      "needs_background": "light"
     },
     "output_type": "display_data"
    }
   ],
   "source": [
    "# plt.figure(figsize=(7,10))\n",
    "sns.countplot(y=df['TypeName'],\n",
    "              order=df['TypeName'].value_counts().sort_values(ascending=False).index)\n",
    "plt.title('Count of different laptop Types')\n",
    "plt.show()"
   ]
  },
  {
   "cell_type": "markdown",
   "id": "770bc130",
   "metadata": {},
   "source": [
    "#### Count of CPU Brand"
   ]
  },
  {
   "cell_type": "code",
   "execution_count": 70,
   "id": "30b8983f",
   "metadata": {},
   "outputs": [
    {
     "data": {
      "text/plain": [
       "Index(['Company', 'TypeName', 'Ram', 'Weight', 'Price', 'Touchscreen', 'Ips',\n",
       "       'Cpu brand', 'HDD', 'SSD', 'Gpu brand', 'os'],\n",
       "      dtype='object')"
      ]
     },
     "execution_count": 70,
     "metadata": {},
     "output_type": "execute_result"
    }
   ],
   "source": [
    "df.columns"
   ]
  },
  {
   "cell_type": "code",
   "execution_count": 72,
   "id": "3b52c49c",
   "metadata": {},
   "outputs": [
    {
     "data": {
      "image/png": "[encoded data removed]",
      "text/plain": [
       "<Figure size 432x288 with 1 Axes>"
      ]
     },
     "metadata": {
      "needs_background": "light"
     },
     "output_type": "display_data"
    }
   ],
   "source": [
    "sns.countplot(y=df['Cpu brand'],\n",
    "              order=df['Cpu brand'].value_counts().sort_values(ascending=False).index)\n",
    "plt.title('Count of different laptop CPU brand')\n",
    "plt.show()"
   ]
  },
  {
   "cell_type": "markdown",
   "id": "d1719d8b",
   "metadata": {},
   "source": [
    "#### Count of GPU Brand"
   ]
  },
  {
   "cell_type": "code",
   "execution_count": 73,
   "id": "1b61239d",
   "metadata": {},
   "outputs": [
    {
     "data": {
      "image/png": "[encoded data removed]",
      "text/plain": [
       "<Figure size 432x288 with 1 Axes>"
      ]
     },
     "metadata": {
      "needs_background": "light"
     },
     "output_type": "display_data"
    }
   ],
   "source": [
    "sns.countplot(y=df['Gpu brand'],\n",
    "              order=df['Gpu brand'].value_counts().sort_values(ascending=False).index)\n",
    "plt.title('Count of different laptop GPU brand')\n",
    "plt.show()"
   ]
  },
  {
   "cell_type": "markdown",
   "id": "568e4ab9",
   "metadata": {},
   "source": [
    "#### Boxplot for Price for differnet Cpu Brands"
   ]
  },
  {
   "cell_type": "code",
   "execution_count": 76,
   "id": "2429d8a2",
   "metadata": {},
   "outputs": [
    {
     "data": {
      "text/plain": [
       "Index(['Company', 'TypeName', 'Ram', 'Weight', 'Price', 'Touchscreen', 'Ips',\n",
       "       'Cpu brand', 'HDD', 'SSD', 'Gpu brand', 'os'],\n",
       "      dtype='object')"
      ]
     },
     "execution_count": 76,
     "metadata": {},
     "output_type": "execute_result"
    }
   ],
   "source": [
    "df.columns"
   ]
  },
  {
   "cell_type": "code",
   "execution_count": 80,
   "id": "05483c83",
   "metadata": {},
   "outputs": [
    {
     "data": {
      "image/png": "[encoded data removed]",
      "text/plain": [
       "<Figure size 432x288 with 1 Axes>"
      ]
     },
     "metadata": {
      "needs_background": "light"
     },
     "output_type": "display_data"
    }
   ],
   "source": [
    "sns.boxplot(y=df['Cpu brand'],x=df['Price'])\n",
    "plt.show()"
   ]
  },
  {
   "cell_type": "markdown",
   "id": "e01de98e",
   "metadata": {},
   "source": [
    "#### Boxplot for GPU brand vs Price"
   ]
  },
  {
   "cell_type": "code",
   "execution_count": 81,
   "id": "a26844b0",
   "metadata": {},
   "outputs": [
    {
     "data": {
      "image/png": "[encoded data removed]",
      "text/plain": [
       "<Figure size 432x288 with 1 Axes>"
      ]
     },
     "metadata": {
      "needs_background": "light"
     },
     "output_type": "display_data"
    }
   ],
   "source": [
    "sns.boxplot(y=df['Gpu brand'],x=df['Price'])\n",
    "plt.show()"
   ]
  },
  {
   "cell_type": "markdown",
   "id": "ed359c5b",
   "metadata": {},
   "source": [
    "#### Distplot for Price"
   ]
  },
  {
   "cell_type": "code",
   "execution_count": 83,
   "id": "26f30d72",
   "metadata": {},
   "outputs": [
    {
     "name": "stderr",
     "output_type": "stream",
     "text": [
      "C:\\Users\\Dell\\anaconda3\\lib\\site-packages\\seaborn\\distributions.py:2557: FutureWarning: `distplot` is a deprecated function and will be removed in a future version. Please adapt your code to use either `displot` (a figure-level function with similar flexibility) or `histplot` (an axes-level function for histograms).\n",
      "  warnings.warn(msg, FutureWarning)\n"
     ]
    },
    {
     "data": {
      "image/png": "[encoded data removed]",
      "text/plain": [
       "<Figure size 432x288 with 1 Axes>"
      ]
     },
     "metadata": {
      "needs_background": "light"
     },
     "output_type": "display_data"
    }
   ],
   "source": [
    "sns.distplot(x=df['Price'])\n",
    "plt.show()"
   ]
  },
  {
   "cell_type": "markdown",
   "id": "0b41fe8d",
   "metadata": {},
   "source": [
    "#### Checking Correlation amongst the columns"
   ]
  },
  {
   "cell_type": "code",
   "execution_count": 86,
   "id": "5485f38d",
   "metadata": {},
   "outputs": [
    {
     "data": {
      "image/png": "[encoded data removed]",
      "text/plain": [
       "<Figure size 432x288 with 2 Axes>"
      ]
     },
     "metadata": {
      "needs_background": "light"
     },
     "output_type": "display_data"
    }
   ],
   "source": [
    "corr = df.corr()\n",
    "sns.heatmap(corr,annot=True,cmap='RdBu')\n",
    "plt.show()"
   ]
  },
  {
   "cell_type": "code",
   "execution_count": 87,
   "id": "ad648263",
   "metadata": {},
   "outputs": [
    {
     "data": {
      "image/png": "[encoded data removed]",
      "text/plain": [
       "<Figure size 432x288 with 2 Axes>"
      ]
     },
     "metadata": {
      "needs_background": "light"
     },
     "output_type": "display_data"
    }
   ],
   "source": [
    "corr = df.corr()\n",
    "corr = corr[corr>0.7]\n",
    "sns.heatmap(corr,annot=True,cmap='RdBu')\n",
    "plt.show()"
   ]
  },
  {
   "cell_type": "markdown",
   "id": "36cc4f40",
   "metadata": {},
   "source": [
    "#### Inference\n",
    "High Correlation does not exist amongst the independent features."
   ]
  },
  {
   "cell_type": "code",
   "execution_count": 88,
   "id": "d041b620",
   "metadata": {},
   "outputs": [
    {
     "data": {
      "text/html": [
       "<div>\n",
       "<style scoped>\n",
       "    .dataframe tbody tr th:only-of-type {\n",
       "        vertical-align: middle;\n",
       "    }\n",
       "\n",
       "    .dataframe tbody tr th {\n",
       "        vertical-align: top;\n",
       "    }\n",
       "\n",
       "    .dataframe thead th {\n",
       "        text-align: right;\n",
       "    }\n",
       "</style>\n",
       "<table border=\"1\" class=\"dataframe\">\n",
       "  <thead>\n",
       "    <tr style=\"text-align: right;\">\n",
       "      <th></th>\n",
       "      <th>Company</th>\n",
       "      <th>TypeName</th>\n",
       "      <th>Ram</th>\n",
       "      <th>Weight</th>\n",
       "      <th>Price</th>\n",
       "      <th>Touchscreen</th>\n",
       "      <th>Ips</th>\n",
       "      <th>Cpu brand</th>\n",
       "      <th>HDD</th>\n",
       "      <th>SSD</th>\n",
       "      <th>Gpu brand</th>\n",
       "      <th>os</th>\n",
       "    </tr>\n",
       "  </thead>\n",
       "  <tbody>\n",
       "    <tr>\n",
       "      <th>0</th>\n",
       "      <td>Apple</td>\n",
       "      <td>Ultrabook</td>\n",
       "      <td>8</td>\n",
       "      <td>1.37</td>\n",
       "      <td>71378.6832</td>\n",
       "      <td>0</td>\n",
       "      <td>1</td>\n",
       "      <td>Intel Core i5</td>\n",
       "      <td>0</td>\n",
       "      <td>128</td>\n",
       "      <td>Intel</td>\n",
       "      <td>Mac</td>\n",
       "    </tr>\n",
       "    <tr>\n",
       "      <th>1</th>\n",
       "      <td>Apple</td>\n",
       "      <td>Ultrabook</td>\n",
       "      <td>8</td>\n",
       "      <td>1.34</td>\n",
       "      <td>47895.5232</td>\n",
       "      <td>0</td>\n",
       "      <td>0</td>\n",
       "      <td>Intel Core i5</td>\n",
       "      <td>0</td>\n",
       "      <td>0</td>\n",
       "      <td>Intel</td>\n",
       "      <td>Mac</td>\n",
       "    </tr>\n",
       "    <tr>\n",
       "      <th>2</th>\n",
       "      <td>HP</td>\n",
       "      <td>Notebook</td>\n",
       "      <td>8</td>\n",
       "      <td>1.86</td>\n",
       "      <td>30636.0000</td>\n",
       "      <td>0</td>\n",
       "      <td>0</td>\n",
       "      <td>Intel Core i5</td>\n",
       "      <td>0</td>\n",
       "      <td>256</td>\n",
       "      <td>Intel</td>\n",
       "      <td>Others/No OS/Linux</td>\n",
       "    </tr>\n",
       "    <tr>\n",
       "      <th>3</th>\n",
       "      <td>Apple</td>\n",
       "      <td>Ultrabook</td>\n",
       "      <td>16</td>\n",
       "      <td>1.83</td>\n",
       "      <td>135195.3360</td>\n",
       "      <td>0</td>\n",
       "      <td>1</td>\n",
       "      <td>Intel Core i7</td>\n",
       "      <td>0</td>\n",
       "      <td>512</td>\n",
       "      <td>AMD</td>\n",
       "      <td>Mac</td>\n",
       "    </tr>\n",
       "    <tr>\n",
       "      <th>4</th>\n",
       "      <td>Apple</td>\n",
       "      <td>Ultrabook</td>\n",
       "      <td>8</td>\n",
       "      <td>1.37</td>\n",
       "      <td>96095.8080</td>\n",
       "      <td>0</td>\n",
       "      <td>1</td>\n",
       "      <td>Intel Core i5</td>\n",
       "      <td>0</td>\n",
       "      <td>256</td>\n",
       "      <td>Intel</td>\n",
       "      <td>Mac</td>\n",
       "    </tr>\n",
       "  </tbody>\n",
       "</table>\n",
       "</div>"
      ],
      "text/plain": [
       "  Company   TypeName  Ram  Weight        Price  Touchscreen  Ips  \\\n",
       "0   Apple  Ultrabook    8    1.37   71378.6832            0    1   \n",
       "1   Apple  Ultrabook    8    1.34   47895.5232            0    0   \n",
       "2      HP   Notebook    8    1.86   30636.0000            0    0   \n",
       "3   Apple  Ultrabook   16    1.83  135195.3360            0    1   \n",
       "4   Apple  Ultrabook    8    1.37   96095.8080            0    1   \n",
       "\n",
       "       Cpu brand  HDD  SSD Gpu brand                  os  \n",
       "0  Intel Core i5    0  128     Intel                 Mac  \n",
       "1  Intel Core i5    0    0     Intel                 Mac  \n",
       "2  Intel Core i5    0  256     Intel  Others/No OS/Linux  \n",
       "3  Intel Core i7    0  512       AMD                 Mac  \n",
       "4  Intel Core i5    0  256     Intel                 Mac  "
      ]
     },
     "execution_count": 88,
     "metadata": {},
     "output_type": "execute_result"
    }
   ],
   "source": [
    "df.head()"
   ]
  },
  {
   "cell_type": "markdown",
   "id": "8e0fd14a",
   "metadata": {},
   "source": [
    "#### Select the dependent and Independent features"
   ]
  },
  {
   "cell_type": "code",
   "execution_count": 89,
   "id": "44a24f30",
   "metadata": {},
   "outputs": [
    {
     "name": "stdout",
     "output_type": "stream",
     "text": [
      "<class 'pandas.core.frame.DataFrame'>\n",
      "<class 'pandas.core.series.Series'>\n",
      "(1272, 11)\n",
      "(1272,)\n"
     ]
    }
   ],
   "source": [
    "x = df.drop('Price',axis=1)\n",
    "y = df['Price']\n",
    "print(type(x))\n",
    "print(type(y))\n",
    "print(x.shape)\n",
    "print(y.shape)"
   ]
  },
  {
   "cell_type": "markdown",
   "id": "de6c9872",
   "metadata": {},
   "source": [
    "#### Split the data into train and test"
   ]
  },
  {
   "cell_type": "code",
   "execution_count": 93,
   "id": "ad4261f6",
   "metadata": {},
   "outputs": [
    {
     "name": "stdout",
     "output_type": "stream",
     "text": [
      "(954, 11)\n",
      "(318, 11)\n",
      "(954,)\n",
      "(318,)\n"
     ]
    }
   ],
   "source": [
    "from sklearn.model_selection import train_test_split\n",
    "x_train,x_test,y_train,y_test = train_test_split(x,y,test_size=0.25,random_state=42)\n",
    "print(x_train.shape)\n",
    "print(x_test.shape)\n",
    "print(y_train.shape)\n",
    "print(y_test.shape)"
   ]
  },
  {
   "cell_type": "markdown",
   "id": "193d3da6",
   "metadata": {},
   "source": [
    "#### Create function to evaluate the model  in terms of  R2_Score, MSE, RMSE, MAE"
   ]
  },
  {
   "cell_type": "code",
   "execution_count": 94,
   "id": "b611ebb5",
   "metadata": {},
   "outputs": [],
   "source": [
    "from sklearn.metrics import mean_squared_error,mean_absolute_error,r2_score"
   ]
  },
  {
   "cell_type": "code",
   "execution_count": 106,
   "id": "c18dece0",
   "metadata": {},
   "outputs": [],
   "source": [
    "def eval_model(ytest,ypred):\n",
    "    mae = mean_absolute_error(ytest,ypred)\n",
    "    mse = mean_squared_error(ytest,ypred)\n",
    "    rmse = np.sqrt(mean_squared_error(ytest,ypred))\n",
    "    r2s = r2_score(ytest,ypred)\n",
    "    print('MAE',mae)\n",
    "    print('MSE',mse)\n",
    "    print('RMSE',rmse)\n",
    "    print('R2_Score',r2s)"
   ]
  },
  {
   "cell_type": "markdown",
   "id": "b8c7b1a8",
   "metadata": {},
   "source": [
    "#### Import the ML Reg libraries"
   ]
  },
  {
   "cell_type": "code",
   "execution_count": 97,
   "id": "43d11ee9",
   "metadata": {},
   "outputs": [],
   "source": [
    "from sklearn.linear_model import LinearRegression\n",
    "from sklearn.linear_model import Ridge,Lasso\n",
    "from sklearn.neighbors import KNeighborsRegressor\n",
    "from sklearn.tree import DecisionTreeRegressor\n",
    "from sklearn.ensemble import RandomForestRegressor"
   ]
  },
  {
   "cell_type": "markdown",
   "id": "82604a26",
   "metadata": {},
   "source": [
    "#### Import the necessary sklearn transformational libraries"
   ]
  },
  {
   "cell_type": "code",
   "execution_count": 100,
   "id": "53902fd5",
   "metadata": {},
   "outputs": [],
   "source": [
    "from sklearn.preprocessing import OneHotEncoder\n",
    "from sklearn.compose import ColumnTransformer\n",
    "from sklearn.pipeline import Pipeline"
   ]
  },
  {
   "cell_type": "code",
   "execution_count": 104,
   "id": "36221ffb",
   "metadata": {},
   "outputs": [
    {
     "name": "stdout",
     "output_type": "stream",
     "text": [
      "Index(['Company', 'TypeName', 'Ram', 'Weight', 'Touchscreen', 'Ips',\n",
      "       'Cpu brand', 'HDD', 'SSD', 'Gpu brand', 'os'],\n",
      "      dtype='object')\n"
     ]
    },
    {
     "data": {
      "text/html": [
       "<div>\n",
       "<style scoped>\n",
       "    .dataframe tbody tr th:only-of-type {\n",
       "        vertical-align: middle;\n",
       "    }\n",
       "\n",
       "    .dataframe tbody tr th {\n",
       "        vertical-align: top;\n",
       "    }\n",
       "\n",
       "    .dataframe thead th {\n",
       "        text-align: right;\n",
       "    }\n",
       "</style>\n",
       "<table border=\"1\" class=\"dataframe\">\n",
       "  <thead>\n",
       "    <tr style=\"text-align: right;\">\n",
       "      <th></th>\n",
       "      <th>Company</th>\n",
       "      <th>TypeName</th>\n",
       "      <th>Ram</th>\n",
       "      <th>Weight</th>\n",
       "      <th>Touchscreen</th>\n",
       "      <th>Ips</th>\n",
       "      <th>Cpu brand</th>\n",
       "      <th>HDD</th>\n",
       "      <th>SSD</th>\n",
       "      <th>Gpu brand</th>\n",
       "      <th>os</th>\n",
       "    </tr>\n",
       "  </thead>\n",
       "  <tbody>\n",
       "    <tr>\n",
       "      <th>0</th>\n",
       "      <td>Apple</td>\n",
       "      <td>Ultrabook</td>\n",
       "      <td>8</td>\n",
       "      <td>1.37</td>\n",
       "      <td>0</td>\n",
       "      <td>1</td>\n",
       "      <td>Intel Core i5</td>\n",
       "      <td>0</td>\n",
       "      <td>128</td>\n",
       "      <td>Intel</td>\n",
       "      <td>Mac</td>\n",
       "    </tr>\n",
       "    <tr>\n",
       "      <th>1</th>\n",
       "      <td>Apple</td>\n",
       "      <td>Ultrabook</td>\n",
       "      <td>8</td>\n",
       "      <td>1.34</td>\n",
       "      <td>0</td>\n",
       "      <td>0</td>\n",
       "      <td>Intel Core i5</td>\n",
       "      <td>0</td>\n",
       "      <td>0</td>\n",
       "      <td>Intel</td>\n",
       "      <td>Mac</td>\n",
       "    </tr>\n",
       "  </tbody>\n",
       "</table>\n",
       "</div>"
      ],
      "text/plain": [
       "  Company   TypeName  Ram  Weight  Touchscreen  Ips      Cpu brand  HDD  SSD  \\\n",
       "0   Apple  Ultrabook    8    1.37            0    1  Intel Core i5    0  128   \n",
       "1   Apple  Ultrabook    8    1.34            0    0  Intel Core i5    0    0   \n",
       "\n",
       "  Gpu brand   os  \n",
       "0     Intel  Mac  \n",
       "1     Intel  Mac  "
      ]
     },
     "execution_count": 104,
     "metadata": {},
     "output_type": "execute_result"
    }
   ],
   "source": [
    "print(x.columns)\n",
    "x.head(2)"
   ]
  },
  {
   "cell_type": "markdown",
   "id": "34fe302e",
   "metadata": {},
   "source": [
    "#### 1) Linear Regression"
   ]
  },
  {
   "cell_type": "code",
   "execution_count": 107,
   "id": "09095a29",
   "metadata": {},
   "outputs": [
    {
     "name": "stdout",
     "output_type": "stream",
     "text": [
      "MAE 13940.901309149727\n",
      "MSE 409547387.3004391\n",
      "RMSE 20237.277171112695\n",
      "R2_Score 0.7020504611099064\n"
     ]
    }
   ],
   "source": [
    "step1 = ColumnTransformer(transformers=\n",
    "                         [('col_transf',OneHotEncoder(drop='first',sparse=False),[0,1,6,9,10])],\n",
    "                         remainder='passthrough')\n",
    "step2 = LinearRegression()\n",
    "\n",
    "pipe_lr = Pipeline([('step1',step1),('step2',step2)])\n",
    "\n",
    "pipe_lr.fit(x_train,y_train)\n",
    "\n",
    "ypred_lr = pipe_lr.predict(x_test)\n",
    "\n",
    "eval_model(y_test,ypred_lr)"
   ]
  },
  {
   "cell_type": "markdown",
   "id": "697033ad",
   "metadata": {},
   "source": [
    "#### 2) Ridge Regression"
   ]
  },
  {
   "cell_type": "code",
   "execution_count": 108,
   "id": "8325f24c",
   "metadata": {},
   "outputs": [
    {
     "name": "stdout",
     "output_type": "stream",
     "text": [
      "MAE 13661.794320175593\n",
      "MSE 393320839.5639605\n",
      "RMSE 19832.318058259363\n",
      "R2_Score 0.7138554257264069\n"
     ]
    }
   ],
   "source": [
    "step1 = ColumnTransformer(transformers=\n",
    "                         [('col_transf',OneHotEncoder(drop='first',sparse=False),[0,1,6,9,10])],\n",
    "                         remainder='passthrough')\n",
    "step2 = Ridge(alpha=10)\n",
    "\n",
    "pipe_ridge = Pipeline([('step1',step1),('step2',step2)])\n",
    "\n",
    "pipe_ridge.fit(x_train,y_train)\n",
    "\n",
    "ypred_ridge = pipe_ridge.predict(x_test)\n",
    "\n",
    "eval_model(y_test,ypred_ridge)"
   ]
  },
  {
   "cell_type": "markdown",
   "id": "6674b05f",
   "metadata": {},
   "source": [
    "#### 3) Lasso Regression"
   ]
  },
  {
   "cell_type": "code",
   "execution_count": 113,
   "id": "21c5303e",
   "metadata": {},
   "outputs": [
    {
     "name": "stdout",
     "output_type": "stream",
     "text": [
      "MAE 13938.920406094996\n",
      "MSE 409444854.3501268\n",
      "RMSE 20234.743743129708\n",
      "R2_Score 0.7021250547862767\n"
     ]
    }
   ],
   "source": [
    "step1 = ColumnTransformer(transformers=\n",
    "                         [('col_transf',OneHotEncoder(drop='first',sparse=False),[0,1,6,9,10])],\n",
    "                         remainder='passthrough')\n",
    "step2 = Lasso(alpha=0.1)\n",
    "\n",
    "pipe_lasso = Pipeline([('step1',step1),('step2',step2)])\n",
    "\n",
    "pipe_lasso.fit(x_train,y_train)\n",
    "\n",
    "ypred_lasso = pipe_lasso.predict(x_test)\n",
    "\n",
    "eval_model(y_test,ypred_lasso)"
   ]
  },
  {
   "cell_type": "markdown",
   "id": "8e6be2f9",
   "metadata": {},
   "source": [
    "#### 4) KNN Regression"
   ]
  },
  {
   "cell_type": "code",
   "execution_count": 120,
   "id": "362405ff",
   "metadata": {},
   "outputs": [
    {
     "name": "stdout",
     "output_type": "stream",
     "text": [
      "MAE 13290.369841509435\n",
      "MSE 422225354.7115619\n",
      "RMSE 20548.122899952734\n",
      "R2_Score 0.6928271217324863\n"
     ]
    }
   ],
   "source": [
    "step1 = ColumnTransformer(transformers=\n",
    "                         [('col_transf',OneHotEncoder(drop='first',sparse=False),[0,1,6,9,10])],\n",
    "                         remainder='passthrough')\n",
    "step2 = KNeighborsRegressor(n_neighbors=3)\n",
    "\n",
    "pipe_knn = Pipeline([('step1',step1),('step2',step2)])\n",
    "\n",
    "pipe_knn.fit(x_train,y_train)\n",
    "\n",
    "ypred_knn = pipe_knn.predict(x_test)\n",
    "\n",
    "eval_model(y_test,ypred_knn)"
   ]
  },
  {
   "cell_type": "markdown",
   "id": "b0344e8e",
   "metadata": {},
   "source": [
    "#### 5) DT Regression"
   ]
  },
  {
   "cell_type": "code",
   "execution_count": 121,
   "id": "daeaa4f8",
   "metadata": {},
   "outputs": [
    {
     "name": "stdout",
     "output_type": "stream",
     "text": [
      "MAE 12494.040137810434\n",
      "MSE 337765355.9831738\n",
      "RMSE 18378.3937269603\n",
      "R2_Score 0.7542725574894004\n"
     ]
    }
   ],
   "source": [
    "step1 = ColumnTransformer(transformers=\n",
    "                         [('col_transf',OneHotEncoder(drop='first',sparse=False),[0,1,6,9,10])],\n",
    "                         remainder='passthrough')\n",
    "step2 = DecisionTreeRegressor(max_depth=8,min_samples_split=15)\n",
    "\n",
    "pipe_dt = Pipeline([('step1',step1),('step2',step2)])\n",
    "\n",
    "pipe_dt.fit(x_train,y_train)\n",
    "\n",
    "ypred_dt = pipe_dt.predict(x_test)\n",
    "\n",
    "eval_model(y_test,ypred_dt)"
   ]
  },
  {
   "cell_type": "markdown",
   "id": "c30544a2",
   "metadata": {},
   "source": [
    "#### 6) RF Regression"
   ]
  },
  {
   "cell_type": "code",
   "execution_count": 139,
   "id": "83b153b2",
   "metadata": {},
   "outputs": [
    {
     "data": {
      "text/html": [
       "<div>\n",
       "<style scoped>\n",
       "    .dataframe tbody tr th:only-of-type {\n",
       "        vertical-align: middle;\n",
       "    }\n",
       "\n",
       "    .dataframe tbody tr th {\n",
       "        vertical-align: top;\n",
       "    }\n",
       "\n",
       "    .dataframe thead th {\n",
       "        text-align: right;\n",
       "    }\n",
       "</style>\n",
       "<table border=\"1\" class=\"dataframe\">\n",
       "  <thead>\n",
       "    <tr style=\"text-align: right;\">\n",
       "      <th></th>\n",
       "      <th>Company</th>\n",
       "      <th>TypeName</th>\n",
       "      <th>Ram</th>\n",
       "      <th>Weight</th>\n",
       "      <th>Touchscreen</th>\n",
       "      <th>Ips</th>\n",
       "      <th>Cpu brand</th>\n",
       "      <th>HDD</th>\n",
       "      <th>SSD</th>\n",
       "      <th>Gpu brand</th>\n",
       "      <th>os</th>\n",
       "    </tr>\n",
       "  </thead>\n",
       "  <tbody>\n",
       "    <tr>\n",
       "      <th>0</th>\n",
       "      <td>Apple</td>\n",
       "      <td>Ultrabook</td>\n",
       "      <td>8</td>\n",
       "      <td>1.37</td>\n",
       "      <td>0</td>\n",
       "      <td>1</td>\n",
       "      <td>Intel Core i5</td>\n",
       "      <td>0</td>\n",
       "      <td>128</td>\n",
       "      <td>Intel</td>\n",
       "      <td>Mac</td>\n",
       "    </tr>\n",
       "    <tr>\n",
       "      <th>1</th>\n",
       "      <td>Apple</td>\n",
       "      <td>Ultrabook</td>\n",
       "      <td>8</td>\n",
       "      <td>1.34</td>\n",
       "      <td>0</td>\n",
       "      <td>0</td>\n",
       "      <td>Intel Core i5</td>\n",
       "      <td>0</td>\n",
       "      <td>0</td>\n",
       "      <td>Intel</td>\n",
       "      <td>Mac</td>\n",
       "    </tr>\n",
       "    <tr>\n",
       "      <th>2</th>\n",
       "      <td>HP</td>\n",
       "      <td>Notebook</td>\n",
       "      <td>8</td>\n",
       "      <td>1.86</td>\n",
       "      <td>0</td>\n",
       "      <td>0</td>\n",
       "      <td>Intel Core i5</td>\n",
       "      <td>0</td>\n",
       "      <td>256</td>\n",
       "      <td>Intel</td>\n",
       "      <td>Others/No OS/Linux</td>\n",
       "    </tr>\n",
       "  </tbody>\n",
       "</table>\n",
       "</div>"
      ],
      "text/plain": [
       "  Company   TypeName  Ram  Weight  Touchscreen  Ips      Cpu brand  HDD  SSD  \\\n",
       "0   Apple  Ultrabook    8    1.37            0    1  Intel Core i5    0  128   \n",
       "1   Apple  Ultrabook    8    1.34            0    0  Intel Core i5    0    0   \n",
       "2      HP   Notebook    8    1.86            0    0  Intel Core i5    0  256   \n",
       "\n",
       "  Gpu brand                  os  \n",
       "0     Intel                 Mac  \n",
       "1     Intel                 Mac  \n",
       "2     Intel  Others/No OS/Linux  "
      ]
     },
     "execution_count": 139,
     "metadata": {},
     "output_type": "execute_result"
    }
   ],
   "source": [
    "x.head(3)"
   ]
  },
  {
   "cell_type": "code",
   "execution_count": 125,
   "id": "12fc2219",
   "metadata": {},
   "outputs": [
    {
     "name": "stdout",
     "output_type": "stream",
     "text": [
      "MAE 11387.353450533621\n",
      "MSE 284154451.6936889\n",
      "RMSE 16856.881434407995\n",
      "R2_Score 0.7932749897056632\n"
     ]
    }
   ],
   "source": [
    "step1 = ColumnTransformer(transformers=\n",
    "                         [('col_transf',OneHotEncoder(drop='first',sparse=False),[0,1,6,9,10])],\n",
    "                         remainder='passthrough')\n",
    "step2 = RandomForestRegressor(n_estimators=100,max_depth=8,\n",
    "                              min_samples_split=11,random_state=5)\n",
    "\n",
    "pipe_rf = Pipeline([('step1',step1),('step2',step2)])\n",
    "\n",
    "pipe_rf.fit(x_train,y_train)\n",
    "\n",
    "ypred_rf = pipe_rf.predict(x_test)\n",
    "\n",
    "eval_model(y_test,ypred_rf)"
   ]
  },
  {
   "cell_type": "markdown",
   "id": "c0f6736a",
   "metadata": {},
   "source": [
    "#### Inference\n",
    "Ranodm Forest is the best performing model in terms of R2_Score and RMSE"
   ]
  },
  {
   "cell_type": "markdown",
   "id": "6fbd979c",
   "metadata": {},
   "source": [
    "#### Saving the model and the DataFrame"
   ]
  },
  {
   "cell_type": "code",
   "execution_count": 126,
   "id": "740e79b0",
   "metadata": {},
   "outputs": [],
   "source": [
    "import pickle"
   ]
  },
  {
   "cell_type": "code",
   "execution_count": 128,
   "id": "7a2b72b7",
   "metadata": {},
   "outputs": [
    {
     "data": {
      "text/html": [
       "<div>\n",
       "<style scoped>\n",
       "    .dataframe tbody tr th:only-of-type {\n",
       "        vertical-align: middle;\n",
       "    }\n",
       "\n",
       "    .dataframe tbody tr th {\n",
       "        vertical-align: top;\n",
       "    }\n",
       "\n",
       "    .dataframe thead th {\n",
       "        text-align: right;\n",
       "    }\n",
       "</style>\n",
       "<table border=\"1\" class=\"dataframe\">\n",
       "  <thead>\n",
       "    <tr style=\"text-align: right;\">\n",
       "      <th></th>\n",
       "      <th>Company</th>\n",
       "      <th>TypeName</th>\n",
       "      <th>Ram</th>\n",
       "      <th>Weight</th>\n",
       "      <th>Price</th>\n",
       "      <th>Touchscreen</th>\n",
       "      <th>Ips</th>\n",
       "      <th>Cpu brand</th>\n",
       "      <th>HDD</th>\n",
       "      <th>SSD</th>\n",
       "      <th>Gpu brand</th>\n",
       "      <th>os</th>\n",
       "    </tr>\n",
       "  </thead>\n",
       "  <tbody>\n",
       "    <tr>\n",
       "      <th>0</th>\n",
       "      <td>Apple</td>\n",
       "      <td>Ultrabook</td>\n",
       "      <td>8</td>\n",
       "      <td>1.37</td>\n",
       "      <td>71378.6832</td>\n",
       "      <td>0</td>\n",
       "      <td>1</td>\n",
       "      <td>Intel Core i5</td>\n",
       "      <td>0</td>\n",
       "      <td>128</td>\n",
       "      <td>Intel</td>\n",
       "      <td>Mac</td>\n",
       "    </tr>\n",
       "    <tr>\n",
       "      <th>1</th>\n",
       "      <td>Apple</td>\n",
       "      <td>Ultrabook</td>\n",
       "      <td>8</td>\n",
       "      <td>1.34</td>\n",
       "      <td>47895.5232</td>\n",
       "      <td>0</td>\n",
       "      <td>0</td>\n",
       "      <td>Intel Core i5</td>\n",
       "      <td>0</td>\n",
       "      <td>0</td>\n",
       "      <td>Intel</td>\n",
       "      <td>Mac</td>\n",
       "    </tr>\n",
       "    <tr>\n",
       "      <th>2</th>\n",
       "      <td>HP</td>\n",
       "      <td>Notebook</td>\n",
       "      <td>8</td>\n",
       "      <td>1.86</td>\n",
       "      <td>30636.0000</td>\n",
       "      <td>0</td>\n",
       "      <td>0</td>\n",
       "      <td>Intel Core i5</td>\n",
       "      <td>0</td>\n",
       "      <td>256</td>\n",
       "      <td>Intel</td>\n",
       "      <td>Others/No OS/Linux</td>\n",
       "    </tr>\n",
       "    <tr>\n",
       "      <th>3</th>\n",
       "      <td>Apple</td>\n",
       "      <td>Ultrabook</td>\n",
       "      <td>16</td>\n",
       "      <td>1.83</td>\n",
       "      <td>135195.3360</td>\n",
       "      <td>0</td>\n",
       "      <td>1</td>\n",
       "      <td>Intel Core i7</td>\n",
       "      <td>0</td>\n",
       "      <td>512</td>\n",
       "      <td>AMD</td>\n",
       "      <td>Mac</td>\n",
       "    </tr>\n",
       "    <tr>\n",
       "      <th>4</th>\n",
       "      <td>Apple</td>\n",
       "      <td>Ultrabook</td>\n",
       "      <td>8</td>\n",
       "      <td>1.37</td>\n",
       "      <td>96095.8080</td>\n",
       "      <td>0</td>\n",
       "      <td>1</td>\n",
       "      <td>Intel Core i5</td>\n",
       "      <td>0</td>\n",
       "      <td>256</td>\n",
       "      <td>Intel</td>\n",
       "      <td>Mac</td>\n",
       "    </tr>\n",
       "  </tbody>\n",
       "</table>\n",
       "</div>"
      ],
      "text/plain": [
       "  Company   TypeName  Ram  Weight        Price  Touchscreen  Ips  \\\n",
       "0   Apple  Ultrabook    8    1.37   71378.6832            0    1   \n",
       "1   Apple  Ultrabook    8    1.34   47895.5232            0    0   \n",
       "2      HP   Notebook    8    1.86   30636.0000            0    0   \n",
       "3   Apple  Ultrabook   16    1.83  135195.3360            0    1   \n",
       "4   Apple  Ultrabook    8    1.37   96095.8080            0    1   \n",
       "\n",
       "       Cpu brand  HDD  SSD Gpu brand                  os  \n",
       "0  Intel Core i5    0  128     Intel                 Mac  \n",
       "1  Intel Core i5    0    0     Intel                 Mac  \n",
       "2  Intel Core i5    0  256     Intel  Others/No OS/Linux  \n",
       "3  Intel Core i7    0  512       AMD                 Mac  \n",
       "4  Intel Core i5    0  256     Intel                 Mac  "
      ]
     },
     "execution_count": 128,
     "metadata": {},
     "output_type": "execute_result"
    }
   ],
   "source": [
    "df.head()"
   ]
  },
  {
   "cell_type": "code",
   "execution_count": 138,
   "id": "4cf83b52",
   "metadata": {},
   "outputs": [],
   "source": [
    "pickle.dump(pipe_rf,open('rf2.pkl','wb')) # saving the best performing model\n",
    "pickle.dump(df,open('data2.pkl','wb'))  # saving the dataframe"
   ]
  },
  {
   "cell_type": "code",
   "execution_count": 137,
   "id": "64df3d3b",
   "metadata": {},
   "outputs": [
    {
     "data": {
      "text/plain": [
       "(954, 11)"
      ]
     },
     "execution_count": 137,
     "metadata": {},
     "output_type": "execute_result"
    }
   ],
   "source": [
    "x_train.shape"
   ]
  },
  {
   "cell_type": "code",
   "execution_count": 133,
   "id": "f7e74db1",
   "metadata": {},
   "outputs": [
    {
     "data": {
      "text/plain": [
       "array([ 8, 16,  4,  2, 12,  6, 32, 24, 64], dtype=int64)"
      ]
     },
     "execution_count": 133,
     "metadata": {},
     "output_type": "execute_result"
    }
   ],
   "source": [
    "df['Ram'].unique()"
   ]
  },
  {
   "cell_type": "code",
   "execution_count": 135,
   "id": "adb4131d",
   "metadata": {},
   "outputs": [
    {
     "data": {
      "text/plain": [
       "0       713\n",
       "1000    400\n",
       "500     125\n",
       "2000     32\n",
       "32        1\n",
       "128       1\n",
       "Name: HDD, dtype: int64"
      ]
     },
     "execution_count": 135,
     "metadata": {},
     "output_type": "execute_result"
    }
   ],
   "source": [
    "df['HDD'].value_counts()"
   ]
  },
  {
   "cell_type": "code",
   "execution_count": 140,
   "id": "cd9d6a4b",
   "metadata": {},
   "outputs": [
    {
     "data": {
      "text/plain": [
       "Index(['Company', 'TypeName', 'Ram', 'Weight', 'Price', 'Touchscreen', 'Ips',\n",
       "       'Cpu brand', 'HDD', 'SSD', 'Gpu brand', 'os'],\n",
       "      dtype='object')"
      ]
     },
     "execution_count": 140,
     "metadata": {},
     "output_type": "execute_result"
    }
   ],
   "source": [
    "df.columns"
   ]
  },
  {
   "cell_type": "code",
   "execution_count": 145,
   "id": "25d4fb83",
   "metadata": {},
   "outputs": [
    {
     "name": "stdout",
     "output_type": "stream",
     "text": [
      "[   0  500 1000 2000   32  128]\n",
      "[ 128    0  256  512   32   64 1000 1024   16  768  180  240    8]\n",
      "[ 8 16  4  2 12  6 32 24 64]\n"
     ]
    }
   ],
   "source": [
    "print(df['HDD'].unique())\n",
    "print(df['SSD'].unique())\n",
    "print(df['Ram'].unique())"
   ]
  },
  {
   "cell_type": "code",
   "execution_count": 143,
   "id": "d651c63e",
   "metadata": {},
   "outputs": [
    {
     "data": {
      "text/plain": [
       "Company         object\n",
       "TypeName        object\n",
       "Ram              int64\n",
       "Weight         float64\n",
       "Price          float64\n",
       "Touchscreen      int64\n",
       "Ips              int64\n",
       "Cpu brand       object\n",
       "HDD              int64\n",
       "SSD              int64\n",
       "Gpu brand       object\n",
       "os              object\n",
       "dtype: object"
      ]
     },
     "execution_count": 143,
     "metadata": {},
     "output_type": "execute_result"
    }
   ],
   "source": [
    "df.dtypes"
   ]
  },
  {
   "cell_type": "code",
   "execution_count": 146,
   "id": "bf43b3cd",
   "metadata": {},
   "outputs": [
    {
     "data": {
      "text/plain": [
       "Index(['Company', 'TypeName', 'Ram', 'Weight', 'Touchscreen', 'Ips',\n",
       "       'Cpu brand', 'HDD', 'SSD', 'Gpu brand', 'os'],\n",
       "      dtype='object')"
      ]
     },
     "execution_count": 146,
     "metadata": {},
     "output_type": "execute_result"
    }
   ],
   "source": [
    "x_train.columns"
   ]
  },
  {
   "cell_type": "code",
   "execution_count": null,
   "id": "531d8c1e",
   "metadata": {},
   "outputs": [],
   "source": []
  }
 ],
 "metadata": {
  "kernelspec": {
   "display_name": "Python 3",
   "language": "python",
   "name": "python3"
  },
  "language_info": {
   "codemirror_mode": {
    "name": "ipython",
    "version": 3
   },
   "file_extension": ".py",
   "mimetype": "text/x-python",
   "name": "python",
   "nbconvert_exporter": "python",
   "pygments_lexer": "ipython3",
   "version": "3.8.8"
  }
 },
 "nbformat": 4,
 "nbformat_minor": 5
}
